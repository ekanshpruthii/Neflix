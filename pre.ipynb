{
 "cells": [
  {
   "cell_type": "code",
   "execution_count": 28,
   "id": "c7499272",
   "metadata": {},
   "outputs": [],
   "source": [
    "import pandas as pd"
   ]
  },
  {
   "cell_type": "code",
   "execution_count": 41,
   "id": "77c502c4",
   "metadata": {},
   "outputs": [
    {
     "name": "stdout",
     "output_type": "stream",
     "text": [
      "Reading ratings from combined_data_1.txt...\n",
      "Done.\n",
      "\n",
      "Reading ratings from combined_data_2.txt...\n",
      "Done.\n",
      "\n",
      "Reading ratings from combined_data_3.txt...\n",
      "Done.\n",
      "\n",
      "Reading ratings from combined_data_4.txt...\n",
      "Done.\n",
      "\n"
     ]
    }
   ],
   "source": [
    "if not os.path.isfile('data1.csv'):\n",
    "    # Create a file 'data.csv' before reading it\n",
    "    # Read all the files in netflix and store them in one big file('data.csv')\n",
    "    # We re reading from each of the four files and appendig each rating to a global file 'train.csv'\n",
    "    data = open('data1.csv', mode='w')\n",
    "    \n",
    "    row = list()\n",
    "    files=['combined_data_1.txt','combined_data_2.txt', \n",
    "           'combined_data_3.txt', 'combined_data_4.txt']\n",
    "    for file in files:\n",
    "        print(\"Reading ratings from {}...\".format(file))\n",
    "        with open(file) as f:\n",
    "            for line in f: \n",
    "                del row[:] # you don't have to do this.\n",
    "                line = line.strip()\n",
    "                if line.endswith(':'):\n",
    "                    # All below are ratings for this movie, until another movie appears.\n",
    "                    movie_id = line.replace(':', '')\n",
    "                else:\n",
    "                    row = [x for x in line.split(',')]\n",
    "                    row.insert(0, movie_id)\n",
    "                    data.write(','.join(row))\n",
    "                    data.write('\\n')\n",
    "        print(\"Done.\\n\")\n",
    "    data.close()"
   ]
  },
  {
   "cell_type": "code",
   "execution_count": 42,
   "id": "c1b982e6",
   "metadata": {},
   "outputs": [
    {
     "name": "stdout",
     "output_type": "stream",
     "text": [
      "creating the dataframe from data.csv file..\n"
     ]
    },
    {
     "name": "stderr",
     "output_type": "stream",
     "text": [
      "/var/folders/jw/ll1dqsq57z18kdvpw8n2cc9m0000gn/T/ipykernel_9923/625273265.py:4: UserWarning: Pandas doesn't allow columns to be created via a new attribute name - see https://pandas.pydata.org/pandas-docs/stable/indexing.html#attribute-access\n",
      "  df.date = pd.to_datetime(df.Date)\n"
     ]
    },
    {
     "name": "stdout",
     "output_type": "stream",
     "text": [
      "Done.\n",
      "\n",
      "Sorting the dataframe by customer id and date..\n",
      "Done..\n"
     ]
    }
   ],
   "source": [
    "print(\"creating the dataframe from data.csv file..\")\n",
    "df = pd.read_csv('data1.csv', sep=',', \n",
    "                       names=['Movie_id', 'Customer_id','Rating','Date'])\n",
    "df.date = pd.to_datetime(df.Date)\n",
    "print('Done.\\n')\n",
    "\n",
    "# we are arranging the ratings according to time.\n",
    "print('Sorting the dataframe by customer id and date..')\n",
    "df.sort_values(by=['Customer_id','Date'], inplace=True)\n",
    "print('Done..')"
   ]
  },
  {
   "cell_type": "code",
   "execution_count": 43,
   "id": "fd76ea02",
   "metadata": {},
   "outputs": [
    {
     "data": {
      "text/html": [
       "<div>\n",
       "<style scoped>\n",
       "    .dataframe tbody tr th:only-of-type {\n",
       "        vertical-align: middle;\n",
       "    }\n",
       "\n",
       "    .dataframe tbody tr th {\n",
       "        vertical-align: top;\n",
       "    }\n",
       "\n",
       "    .dataframe thead th {\n",
       "        text-align: right;\n",
       "    }\n",
       "</style>\n",
       "<table border=\"1\" class=\"dataframe\">\n",
       "  <thead>\n",
       "    <tr style=\"text-align: right;\">\n",
       "      <th></th>\n",
       "      <th>Movie_id</th>\n",
       "      <th>Customer_id</th>\n",
       "      <th>Rating</th>\n",
       "      <th>Date</th>\n",
       "    </tr>\n",
       "  </thead>\n",
       "  <tbody>\n",
       "    <tr>\n",
       "      <th>3657676</th>\n",
       "      <td>705</td>\n",
       "      <td>6</td>\n",
       "      <td>3</td>\n",
       "      <td>2004-03-09</td>\n",
       "    </tr>\n",
       "    <tr>\n",
       "      <th>6495175</th>\n",
       "      <td>1267</td>\n",
       "      <td>6</td>\n",
       "      <td>3</td>\n",
       "      <td>2004-03-09</td>\n",
       "    </tr>\n",
       "    <tr>\n",
       "      <th>7800568</th>\n",
       "      <td>1561</td>\n",
       "      <td>6</td>\n",
       "      <td>3</td>\n",
       "      <td>2004-03-09</td>\n",
       "    </tr>\n",
       "    <tr>\n",
       "      <th>10653731</th>\n",
       "      <td>2095</td>\n",
       "      <td>6</td>\n",
       "      <td>4</td>\n",
       "      <td>2004-03-09</td>\n",
       "    </tr>\n",
       "    <tr>\n",
       "      <th>12910599</th>\n",
       "      <td>2456</td>\n",
       "      <td>6</td>\n",
       "      <td>4</td>\n",
       "      <td>2004-03-09</td>\n",
       "    </tr>\n",
       "  </tbody>\n",
       "</table>\n",
       "</div>"
      ],
      "text/plain": [
       "          Movie_id  Customer_id  Rating        Date\n",
       "3657676        705            6       3  2004-03-09\n",
       "6495175       1267            6       3  2004-03-09\n",
       "7800568       1561            6       3  2004-03-09\n",
       "10653731      2095            6       4  2004-03-09\n",
       "12910599      2456            6       4  2004-03-09"
      ]
     },
     "execution_count": 43,
     "metadata": {},
     "output_type": "execute_result"
    }
   ],
   "source": [
    "df.head()"
   ]
  },
  {
   "cell_type": "code",
   "execution_count": 44,
   "id": "9850cb02",
   "metadata": {},
   "outputs": [],
   "source": [
    "df = df.dropna()"
   ]
  },
  {
   "cell_type": "code",
   "execution_count": 45,
   "id": "8af6ba44",
   "metadata": {},
   "outputs": [
    {
     "data": {
      "text/plain": [
       "(100480507, 4)"
      ]
     },
     "execution_count": 45,
     "metadata": {},
     "output_type": "execute_result"
    }
   ],
   "source": [
    "df.shape"
   ]
  },
  {
   "cell_type": "code",
   "execution_count": 50,
   "id": "36e967b7",
   "metadata": {},
   "outputs": [
    {
     "data": {
      "text/plain": [
       "count    1.004805e+08\n",
       "mean     3.604290e+00\n",
       "std      1.085219e+00\n",
       "min      1.000000e+00\n",
       "25%      3.000000e+00\n",
       "50%      4.000000e+00\n",
       "75%      4.000000e+00\n",
       "max      5.000000e+00\n",
       "Name: Rating, dtype: float64"
      ]
     },
     "execution_count": 50,
     "metadata": {},
     "output_type": "execute_result"
    }
   ],
   "source": [
    "df.describe()['Rating']"
   ]
  },
  {
   "cell_type": "code",
   "execution_count": 51,
   "id": "980945e7",
   "metadata": {},
   "outputs": [
    {
     "name": "stdout",
     "output_type": "stream",
     "text": [
      "No of Nan values in our dataframe :  0\n"
     ]
    }
   ],
   "source": [
    "# just to make sure that all Nan containing rows are deleted..\n",
    "print(\"No of Nan values in our dataframe : \", sum(df.isnull().any()))"
   ]
  },
  {
   "cell_type": "code",
   "execution_count": 52,
   "id": "38574b62",
   "metadata": {},
   "outputs": [
    {
     "name": "stdout",
     "output_type": "stream",
     "text": [
      "There are 0 duplicate rating entries in the data..\n"
     ]
    }
   ],
   "source": [
    "dup_bool = df.duplicated(['Movie_id','Customer_id','Rating'])\n",
    "dups = sum(dup_bool) # by considering all columns..( including timestamp)\n",
    "print(\"There are {} duplicate rating entries in the data..\".format(dups))"
   ]
  },
  {
   "attachments": {},
   "cell_type": "markdown",
   "id": "7213b31e",
   "metadata": {},
   "source": [
    " <h3>3.1.4 Basic Statistics (#Ratings, #Users, and #Movies)</h3>"
   ]
  },
  {
   "cell_type": "code",
   "execution_count": 53,
   "id": "b95340ac",
   "metadata": {},
   "outputs": [
    {
     "name": "stdout",
     "output_type": "stream",
     "text": [
      "Total data \n",
      "--------------------------------------------------\n",
      "\n",
      "Total no of ratings : 100480507\n",
      "Total No of Customer   : 480189\n",
      "Total No of movies  : 17770\n"
     ]
    }
   ],
   "source": [
    "import numpy as np\n",
    "print(\"Total data \")\n",
    "print(\"-\"*50)\n",
    "print(\"\\nTotal no of ratings :\",df.shape[0])\n",
    "print(\"Total No of Customer   :\", len(np.unique(df.Customer_id)))\n",
    "print(\"Total No of movies  :\", len(np.unique(df.Movie_id)))"
   ]
  },
  {
   "cell_type": "code",
   "execution_count": 54,
   "id": "8409dd81",
   "metadata": {},
   "outputs": [
    {
     "data": {
      "text/plain": [
       "Customer_id\n",
       "305344     17653\n",
       "387418     17436\n",
       "2439493    16565\n",
       "1664010    15813\n",
       "2118461    14831\n",
       "Name: Rating, dtype: int64"
      ]
     },
     "execution_count": 54,
     "metadata": {},
     "output_type": "execute_result"
    }
   ],
   "source": [
    "no_of_rated_movies_per_user = df.groupby(by='Customer_id')['Rating'].count().sort_values(ascending=False)\n",
    "\n",
    "no_of_rated_movies_per_user.head()"
   ]
  },
  {
   "cell_type": "code",
   "execution_count": 55,
   "id": "e36c6f71",
   "metadata": {},
   "outputs": [
    {
     "data": {
      "image/png": "[encoded data removed]",
      "text/plain": [
       "<Figure size 576x288 with 2 Axes>"
      ]
     },
     "metadata": {},
     "output_type": "display_data"
    }
   ],
   "source": [
    "import matplotlib.pyplot as plt\n",
    "import seaborn as sns\n",
    "sns.set_style('whitegrid')\n",
    "\n",
    "fig = plt.figure(figsize=plt.figaspect(.5))\n",
    "\n",
    "ax1 = plt.subplot(121)\n",
    "sns.kdeplot(no_of_rated_movies_per_user, shade=True, ax=ax1)\n",
    "plt.xlabel('No of ratings by user')\n",
    "plt.title(\"PDF\")\n",
    "\n",
    "ax2 = plt.subplot(122)\n",
    "sns.kdeplot(no_of_rated_movies_per_user, shade=True, cumulative=True,ax=ax2)\n",
    "plt.xlabel('No of ratings by user')\n",
    "plt.title('CDF')\n",
    "\n",
    "plt.show()"
   ]
  },
  {
   "cell_type": "code",
   "execution_count": 56,
   "id": "63c003e8",
   "metadata": {},
   "outputs": [
    {
     "data": {
      "text/plain": [
       "count    480189.000000\n",
       "mean        209.251997\n",
       "std         302.339155\n",
       "min           1.000000\n",
       "25%          39.000000\n",
       "50%          96.000000\n",
       "75%         259.000000\n",
       "max       17653.000000\n",
       "Name: Rating, dtype: float64"
      ]
     },
     "execution_count": 56,
     "metadata": {},
     "output_type": "execute_result"
    }
   ],
   "source": [
    "no_of_rated_movies_per_user.describe()"
   ]
  },
  {
   "attachments": {},
   "cell_type": "markdown",
   "id": "ba92549c",
   "metadata": {},
   "source": [
    "> _There,  is something interesting going on with the quantiles.._"
   ]
  },
  {
   "cell_type": "code",
   "execution_count": 57,
   "id": "57f6b802",
   "metadata": {},
   "outputs": [],
   "source": [
    "quantiles = no_of_rated_movies_per_user.quantile(np.arange(0,1.01,0.01), interpolation='higher')"
   ]
  },
  {
   "cell_type": "code",
   "execution_count": 59,
   "id": "d413f7fe",
   "metadata": {},
   "outputs": [
    {
     "ename": "TypeError",
     "evalue": "annotate() missing 1 required positional argument: 'text'",
     "output_type": "error",
     "traceback": [
      "\u001b[0;31m---------------------------------------------------------------------------\u001b[0m",
      "\u001b[0;31mTypeError\u001b[0m                                 Traceback (most recent call last)",
      "\u001b[1;32m/Volumes/Study/Netflix/Recommender/pre.ipynb Cell 17\u001b[0m in \u001b[0;36m<cell line: 12>\u001b[0;34m()\u001b[0m\n\u001b[1;32m     <a href='vscode-notebook-cell:/Volumes/Study/Netflix/Recommender/pre.ipynb#X25sZmlsZQ%3D%3D?line=10'>11</a>\u001b[0m \u001b[39m# annotate the 25th, 50th, 75th and 100th percentile values....\u001b[39;00m\n\u001b[1;32m     <a href='vscode-notebook-cell:/Volumes/Study/Netflix/Recommender/pre.ipynb#X25sZmlsZQ%3D%3D?line=11'>12</a>\u001b[0m \u001b[39mfor\u001b[39;00m x,y \u001b[39min\u001b[39;00m \u001b[39mzip\u001b[39m(quantiles\u001b[39m.\u001b[39mindex[::\u001b[39m25\u001b[39m], quantiles[::\u001b[39m25\u001b[39m]):\n\u001b[0;32m---> <a href='vscode-notebook-cell:/Volumes/Study/Netflix/Recommender/pre.ipynb#X25sZmlsZQ%3D%3D?line=12'>13</a>\u001b[0m     plt\u001b[39m.\u001b[39;49mannotate(s\u001b[39m=\u001b[39;49m\u001b[39m\"\u001b[39;49m\u001b[39m(\u001b[39;49m\u001b[39m{}\u001b[39;49;00m\u001b[39m , \u001b[39;49m\u001b[39m{}\u001b[39;49;00m\u001b[39m)\u001b[39;49m\u001b[39m\"\u001b[39;49m\u001b[39m.\u001b[39;49mformat(x,y), xy\u001b[39m=\u001b[39;49m(x,y), xytext\u001b[39m=\u001b[39;49m(x\u001b[39m-\u001b[39;49m\u001b[39m0.05\u001b[39;49m, y\u001b[39m+\u001b[39;49m\u001b[39m500\u001b[39;49m)\n\u001b[1;32m     <a href='vscode-notebook-cell:/Volumes/Study/Netflix/Recommender/pre.ipynb#X25sZmlsZQ%3D%3D?line=13'>14</a>\u001b[0m                 ,fontweight\u001b[39m=\u001b[39;49m\u001b[39m'\u001b[39;49m\u001b[39mbold\u001b[39;49m\u001b[39m'\u001b[39;49m)\n\u001b[1;32m     <a href='vscode-notebook-cell:/Volumes/Study/Netflix/Recommender/pre.ipynb#X25sZmlsZQ%3D%3D?line=16'>17</a>\u001b[0m plt\u001b[39m.\u001b[39mshow()\n",
      "\u001b[0;31mTypeError\u001b[0m: annotate() missing 1 required positional argument: 'text'"
     ]
    },
    {
     "data": {
      "image/png": "[encoded data removed]",
      "text/plain": [
       "<Figure size 432x288 with 1 Axes>"
      ]
     },
     "metadata": {},
     "output_type": "display_data"
    }
   ],
   "source": [
    "plt.title(\"Quantiles and their Values\")\n",
    "quantiles.plot()\n",
    "# quantiles with 0.05 difference\n",
    "plt.scatter(x=quantiles.index[::5], y=quantiles.values[::5], c='orange', label=\"quantiles with 0.05 intervals\")\n",
    "# quantiles with 0.25 difference\n",
    "plt.scatter(x=quantiles.index[::25], y=quantiles.values[::25], c='m', label = \"quantiles with 0.25 intervals\")\n",
    "plt.ylabel('No of ratings by user')\n",
    "plt.xlabel('Value at the quantile')\n",
    "plt.legend(loc='best')\n",
    "\n",
    "# annotate the 25th, 50th, 75th and 100th percentile values....\n",
    "for x,y in zip(quantiles.index[::25], quantiles[::25]):\n",
    "    plt.annotate(s=\"({} , {})\".format(x,y), xy=(x,y), xytext=(x-0.05, y+500)\n",
    "                ,fontweight='bold')\n",
    "\n",
    "\n",
    "plt.show()"
   ]
  },
  {
   "cell_type": "code",
   "execution_count": 60,
   "id": "c83f1418",
   "metadata": {},
   "outputs": [
    {
     "data": {
      "text/plain": [
       "0.00        1\n",
       "0.05       12\n",
       "0.10       19\n",
       "0.15       25\n",
       "0.20       31\n",
       "0.25       39\n",
       "0.30       46\n",
       "0.35       55\n",
       "0.40       66\n",
       "0.45       80\n",
       "0.50       96\n",
       "0.55      117\n",
       "0.60      142\n",
       "0.65      173\n",
       "0.70      211\n",
       "0.75      259\n",
       "0.80      322\n",
       "0.85      410\n",
       "0.90      541\n",
       "0.95      779\n",
       "1.00    17653\n",
       "Name: Rating, dtype: int64"
      ]
     },
     "execution_count": 60,
     "metadata": {},
     "output_type": "execute_result"
    }
   ],
   "source": [
    "quantiles[::5]"
   ]
  },
  {
   "cell_type": "code",
   "execution_count": 61,
   "id": "bfda97e9",
   "metadata": {},
   "outputs": [
    {
     "name": "stdout",
     "output_type": "stream",
     "text": [
      "\n",
      " No of ratings at last 5 percentile : 157055\n",
      "\n"
     ]
    }
   ],
   "source": [
    "print('\\n No of ratings at last 5 percentile : {}\\n'.format(sum(no_of_rated_movies_per_user>= 190)) )"
   ]
  },
  {
   "attachments": {},
   "cell_type": "markdown",
   "id": "b77ae83a",
   "metadata": {},
   "source": [
    "<h3>  Analysis of ratings of a movie given by a user </h3>"
   ]
  },
  {
   "cell_type": "code",
   "execution_count": 62,
   "id": "b36b03b2",
   "metadata": {},
   "outputs": [
    {
     "data": {
      "image/png": "[encoded data removed]",
      "text/plain": [
       "<Figure size 576x288 with 1 Axes>"
      ]
     },
     "metadata": {},
     "output_type": "display_data"
    }
   ],
   "source": [
    "no_of_ratings_per_movie = df.groupby(by='Movie_id')['Rating'].count().sort_values(ascending=False)\n",
    "\n",
    "fig = plt.figure(figsize=plt.figaspect(.5))\n",
    "ax = plt.gca()\n",
    "plt.plot(no_of_ratings_per_movie.values)\n",
    "plt.title('# RATINGS per Movie')\n",
    "plt.xlabel('Movie')\n",
    "plt.ylabel('No of Users who rated a movie')\n",
    "\n",
    "\n",
    "plt.show()"
   ]
  },
  {
   "cell_type": "code",
   "execution_count": 63,
   "id": "6007bcd1",
   "metadata": {},
   "outputs": [
    {
     "data": {
      "text/plain": [
       "(17770,)"
      ]
     },
     "execution_count": 63,
     "metadata": {},
     "output_type": "execute_result"
    }
   ],
   "source": [
    "df.Movie_id.unique().shape"
   ]
  },
  {
   "cell_type": "code",
   "execution_count": 5,
   "id": "d9d3545d",
   "metadata": {},
   "outputs": [],
   "source": [
    "#df = pd.read_csv('customer_wise_data.csv')"
   ]
  },
  {
   "cell_type": "code",
   "execution_count": 71,
   "id": "0e0f8e48",
   "metadata": {},
   "outputs": [],
   "source": [
    "df['Movie_id'] = df['Movie_id'].astype(int)"
   ]
  },
  {
   "cell_type": "code",
   "execution_count": 72,
   "id": "c0f3ebc8",
   "metadata": {},
   "outputs": [],
   "source": [
    "df2 = df.groupby('Customer_id')['Movie_id'].apply(list).reset_index(name='movie_ids')"
   ]
  },
  {
   "cell_type": "code",
   "execution_count": 73,
   "id": "48f57c05",
   "metadata": {},
   "outputs": [
    {
     "data": {
      "text/html": [
       "<div>\n",
       "<style scoped>\n",
       "    .dataframe tbody tr th:only-of-type {\n",
       "        vertical-align: middle;\n",
       "    }\n",
       "\n",
       "    .dataframe tbody tr th {\n",
       "        vertical-align: top;\n",
       "    }\n",
       "\n",
       "    .dataframe thead th {\n",
       "        text-align: right;\n",
       "    }\n",
       "</style>\n",
       "<table border=\"1\" class=\"dataframe\">\n",
       "  <thead>\n",
       "    <tr style=\"text-align: right;\">\n",
       "      <th></th>\n",
       "      <th>Customer_id</th>\n",
       "      <th>movie_ids</th>\n",
       "    </tr>\n",
       "  </thead>\n",
       "  <tbody>\n",
       "    <tr>\n",
       "      <th>0</th>\n",
       "      <td>6</td>\n",
       "      <td>[705, 1267, 1561, 2095, 2456, 3423, 4506, 5069...</td>\n",
       "    </tr>\n",
       "    <tr>\n",
       "      <th>1</th>\n",
       "      <td>7</td>\n",
       "      <td>[11234, 458, 1145, 5317, 6287, 6528, 6972, 739...</td>\n",
       "    </tr>\n",
       "    <tr>\n",
       "      <th>2</th>\n",
       "      <td>8</td>\n",
       "      <td>[1144, 1202, 1428, 1518, 1719, 1799, 1843, 190...</td>\n",
       "    </tr>\n",
       "    <tr>\n",
       "      <th>3</th>\n",
       "      <td>10</td>\n",
       "      <td>[571, 2122, 6029, 6972, 9340, 11064, 14367, 15...</td>\n",
       "    </tr>\n",
       "    <tr>\n",
       "      <th>4</th>\n",
       "      <td>25</td>\n",
       "      <td>[178, 17308, 761, 11819, 3427, 4432, 4656, 499...</td>\n",
       "    </tr>\n",
       "    <tr>\n",
       "      <th>...</th>\n",
       "      <td>...</td>\n",
       "      <td>...</td>\n",
       "    </tr>\n",
       "    <tr>\n",
       "      <th>480184</th>\n",
       "      <td>2649404</td>\n",
       "      <td>[299, 6287, 6692, 9340, 14313, 14538, 15205, 6...</td>\n",
       "    </tr>\n",
       "    <tr>\n",
       "      <th>480185</th>\n",
       "      <td>2649409</td>\n",
       "      <td>[9471, 12161, 14454, 457, 14240, 191, 14999, 1...</td>\n",
       "    </tr>\n",
       "    <tr>\n",
       "      <th>480186</th>\n",
       "      <td>2649421</td>\n",
       "      <td>[1877, 2152, 3078, 4640, 5317, 6287, 7617, 843...</td>\n",
       "    </tr>\n",
       "    <tr>\n",
       "      <th>480187</th>\n",
       "      <td>2649426</td>\n",
       "      <td>[5227, 3905, 7971, 15772, 12329, 15158, 216, 9...</td>\n",
       "    </tr>\n",
       "    <tr>\n",
       "      <th>480188</th>\n",
       "      <td>2649429</td>\n",
       "      <td>[11265, 571, 708, 798, 985, 1542, 2152, 2209, ...</td>\n",
       "    </tr>\n",
       "  </tbody>\n",
       "</table>\n",
       "<p>480189 rows × 2 columns</p>\n",
       "</div>"
      ],
      "text/plain": [
       "        Customer_id                                          movie_ids\n",
       "0                 6  [705, 1267, 1561, 2095, 2456, 3423, 4506, 5069...\n",
       "1                 7  [11234, 458, 1145, 5317, 6287, 6528, 6972, 739...\n",
       "2                 8  [1144, 1202, 1428, 1518, 1719, 1799, 1843, 190...\n",
       "3                10  [571, 2122, 6029, 6972, 9340, 11064, 14367, 15...\n",
       "4                25  [178, 17308, 761, 11819, 3427, 4432, 4656, 499...\n",
       "...             ...                                                ...\n",
       "480184      2649404  [299, 6287, 6692, 9340, 14313, 14538, 15205, 6...\n",
       "480185      2649409  [9471, 12161, 14454, 457, 14240, 191, 14999, 1...\n",
       "480186      2649421  [1877, 2152, 3078, 4640, 5317, 6287, 7617, 843...\n",
       "480187      2649426  [5227, 3905, 7971, 15772, 12329, 15158, 216, 9...\n",
       "480188      2649429  [11265, 571, 708, 798, 985, 1542, 2152, 2209, ...\n",
       "\n",
       "[480189 rows x 2 columns]"
      ]
     },
     "execution_count": 73,
     "metadata": {},
     "output_type": "execute_result"
    }
   ],
   "source": [
    "df2"
   ]
  },
  {
   "cell_type": "code",
   "execution_count": 68,
   "id": "30e8ea2f",
   "metadata": {},
   "outputs": [],
   "source": [
    "df2['#ofmovies'] = df2['movie_ids'].apply(lambda x: len(x))"
   ]
  },
  {
   "cell_type": "code",
   "execution_count": 69,
   "id": "c103b6b9",
   "metadata": {},
   "outputs": [],
   "source": [
    "ratings = df.groupby('Customer_id')['Rating'].apply(list).reset_index()"
   ]
  },
  {
   "cell_type": "code",
   "execution_count": 74,
   "id": "863fd439",
   "metadata": {},
   "outputs": [],
   "source": [
    "ratings = pd.DataFrame(ratings)"
   ]
  },
  {
   "cell_type": "code",
   "execution_count": 75,
   "id": "14da7a1d",
   "metadata": {},
   "outputs": [
    {
     "data": {
      "text/plain": [
       "0         [3, 3, 3, 4, 4, 4, 3, 3, 5, 3, 4, 4, 3, 3, 5, ...\n",
       "1         [5, 5, 3, 2, 5, 4, 2, 4, 5, 4, 5, 4, 3, 2, 4, ...\n",
       "2         [4, 5, 4, 4, 1, 5, 3, 5, 3, 5, 4, 4, 4, 4, 4, ...\n",
       "3         [4, 4, 3, 4, 5, 3, 5, 4, 3, 3, 3, 5, 3, 4, 4, ...\n",
       "4         [3, 3, 4, 4, 2, 5, 3, 2, 4, 4, 5, 2, 3, 1, 2, ...\n",
       "                                ...                        \n",
       "480184    [3, 4, 4, 5, 5, 4, 3, 4, 4, 1, 4, 3, 4, 4, 5, ...\n",
       "480185    [3, 4, 3, 4, 4, 3, 3, 4, 4, 4, 4, 4, 4, 4, 2, ...\n",
       "480186    [5, 5, 5, 5, 5, 5, 5, 5, 4, 3, 5, 5, 5, 5, 4, ...\n",
       "480187    [4, 2, 4, 2, 4, 4, 4, 4, 4, 4, 4, 4, 3, 4, 4, ...\n",
       "480188    [5, 4, 2, 4, 4, 4, 5, 3, 5, 5, 5, 5, 5, 4, 5, ...\n",
       "Name: Rating, Length: 480189, dtype: object"
      ]
     },
     "execution_count": 75,
     "metadata": {},
     "output_type": "execute_result"
    }
   ],
   "source": [
    "ratings['Rating']"
   ]
  },
  {
   "cell_type": "code",
   "execution_count": 76,
   "id": "2818dc60",
   "metadata": {},
   "outputs": [],
   "source": [
    "df2['ratings'] = ratings['Rating']"
   ]
  },
  {
   "cell_type": "code",
   "execution_count": 77,
   "id": "b90d86cb",
   "metadata": {},
   "outputs": [
    {
     "data": {
      "text/html": [
       "<div>\n",
       "<style scoped>\n",
       "    .dataframe tbody tr th:only-of-type {\n",
       "        vertical-align: middle;\n",
       "    }\n",
       "\n",
       "    .dataframe tbody tr th {\n",
       "        vertical-align: top;\n",
       "    }\n",
       "\n",
       "    .dataframe thead th {\n",
       "        text-align: right;\n",
       "    }\n",
       "</style>\n",
       "<table border=\"1\" class=\"dataframe\">\n",
       "  <thead>\n",
       "    <tr style=\"text-align: right;\">\n",
       "      <th></th>\n",
       "      <th>Customer_id</th>\n",
       "      <th>movie_ids</th>\n",
       "      <th>ratings</th>\n",
       "    </tr>\n",
       "  </thead>\n",
       "  <tbody>\n",
       "    <tr>\n",
       "      <th>0</th>\n",
       "      <td>6</td>\n",
       "      <td>[705, 1267, 1561, 2095, 2456, 3423, 4506, 5069...</td>\n",
       "      <td>[3, 3, 3, 4, 4, 4, 3, 3, 5, 3, 4, 4, 3, 3, 5, ...</td>\n",
       "    </tr>\n",
       "    <tr>\n",
       "      <th>1</th>\n",
       "      <td>7</td>\n",
       "      <td>[11234, 458, 1145, 5317, 6287, 6528, 6972, 739...</td>\n",
       "      <td>[5, 5, 3, 2, 5, 4, 2, 4, 5, 4, 5, 4, 3, 2, 4, ...</td>\n",
       "    </tr>\n",
       "    <tr>\n",
       "      <th>2</th>\n",
       "      <td>8</td>\n",
       "      <td>[1144, 1202, 1428, 1518, 1719, 1799, 1843, 190...</td>\n",
       "      <td>[4, 5, 4, 4, 1, 5, 3, 5, 3, 5, 4, 4, 4, 4, 4, ...</td>\n",
       "    </tr>\n",
       "    <tr>\n",
       "      <th>3</th>\n",
       "      <td>10</td>\n",
       "      <td>[571, 2122, 6029, 6972, 9340, 11064, 14367, 15...</td>\n",
       "      <td>[4, 4, 3, 4, 5, 3, 5, 4, 3, 3, 3, 5, 3, 4, 4, ...</td>\n",
       "    </tr>\n",
       "    <tr>\n",
       "      <th>4</th>\n",
       "      <td>25</td>\n",
       "      <td>[178, 17308, 761, 11819, 3427, 4432, 4656, 499...</td>\n",
       "      <td>[3, 3, 4, 4, 2, 5, 3, 2, 4, 4, 5, 2, 3, 1, 2, ...</td>\n",
       "    </tr>\n",
       "    <tr>\n",
       "      <th>...</th>\n",
       "      <td>...</td>\n",
       "      <td>...</td>\n",
       "      <td>...</td>\n",
       "    </tr>\n",
       "    <tr>\n",
       "      <th>480184</th>\n",
       "      <td>2649404</td>\n",
       "      <td>[299, 6287, 6692, 9340, 14313, 14538, 15205, 6...</td>\n",
       "      <td>[3, 4, 4, 5, 5, 4, 3, 4, 4, 1, 4, 3, 4, 4, 5, ...</td>\n",
       "    </tr>\n",
       "    <tr>\n",
       "      <th>480185</th>\n",
       "      <td>2649409</td>\n",
       "      <td>[9471, 12161, 14454, 457, 14240, 191, 14999, 1...</td>\n",
       "      <td>[3, 4, 3, 4, 4, 3, 3, 4, 4, 4, 4, 4, 4, 4, 2, ...</td>\n",
       "    </tr>\n",
       "    <tr>\n",
       "      <th>480186</th>\n",
       "      <td>2649421</td>\n",
       "      <td>[1877, 2152, 3078, 4640, 5317, 6287, 7617, 843...</td>\n",
       "      <td>[5, 5, 5, 5, 5, 5, 5, 5, 4, 3, 5, 5, 5, 5, 4, ...</td>\n",
       "    </tr>\n",
       "    <tr>\n",
       "      <th>480187</th>\n",
       "      <td>2649426</td>\n",
       "      <td>[5227, 3905, 7971, 15772, 12329, 15158, 216, 9...</td>\n",
       "      <td>[4, 2, 4, 2, 4, 4, 4, 4, 4, 4, 4, 4, 3, 4, 4, ...</td>\n",
       "    </tr>\n",
       "    <tr>\n",
       "      <th>480188</th>\n",
       "      <td>2649429</td>\n",
       "      <td>[11265, 571, 708, 798, 985, 1542, 2152, 2209, ...</td>\n",
       "      <td>[5, 4, 2, 4, 4, 4, 5, 3, 5, 5, 5, 5, 5, 4, 5, ...</td>\n",
       "    </tr>\n",
       "  </tbody>\n",
       "</table>\n",
       "<p>480189 rows × 3 columns</p>\n",
       "</div>"
      ],
      "text/plain": [
       "        Customer_id                                          movie_ids  \\\n",
       "0                 6  [705, 1267, 1561, 2095, 2456, 3423, 4506, 5069...   \n",
       "1                 7  [11234, 458, 1145, 5317, 6287, 6528, 6972, 739...   \n",
       "2                 8  [1144, 1202, 1428, 1518, 1719, 1799, 1843, 190...   \n",
       "3                10  [571, 2122, 6029, 6972, 9340, 11064, 14367, 15...   \n",
       "4                25  [178, 17308, 761, 11819, 3427, 4432, 4656, 499...   \n",
       "...             ...                                                ...   \n",
       "480184      2649404  [299, 6287, 6692, 9340, 14313, 14538, 15205, 6...   \n",
       "480185      2649409  [9471, 12161, 14454, 457, 14240, 191, 14999, 1...   \n",
       "480186      2649421  [1877, 2152, 3078, 4640, 5317, 6287, 7617, 843...   \n",
       "480187      2649426  [5227, 3905, 7971, 15772, 12329, 15158, 216, 9...   \n",
       "480188      2649429  [11265, 571, 708, 798, 985, 1542, 2152, 2209, ...   \n",
       "\n",
       "                                                  ratings  \n",
       "0       [3, 3, 3, 4, 4, 4, 3, 3, 5, 3, 4, 4, 3, 3, 5, ...  \n",
       "1       [5, 5, 3, 2, 5, 4, 2, 4, 5, 4, 5, 4, 3, 2, 4, ...  \n",
       "2       [4, 5, 4, 4, 1, 5, 3, 5, 3, 5, 4, 4, 4, 4, 4, ...  \n",
       "3       [4, 4, 3, 4, 5, 3, 5, 4, 3, 3, 3, 5, 3, 4, 4, ...  \n",
       "4       [3, 3, 4, 4, 2, 5, 3, 2, 4, 4, 5, 2, 3, 1, 2, ...  \n",
       "...                                                   ...  \n",
       "480184  [3, 4, 4, 5, 5, 4, 3, 4, 4, 1, 4, 3, 4, 4, 5, ...  \n",
       "480185  [3, 4, 3, 4, 4, 3, 3, 4, 4, 4, 4, 4, 4, 4, 2, ...  \n",
       "480186  [5, 5, 5, 5, 5, 5, 5, 5, 4, 3, 5, 5, 5, 5, 4, ...  \n",
       "480187  [4, 2, 4, 2, 4, 4, 4, 4, 4, 4, 4, 4, 3, 4, 4, ...  \n",
       "480188  [5, 4, 2, 4, 4, 4, 5, 3, 5, 5, 5, 5, 5, 4, 5, ...  \n",
       "\n",
       "[480189 rows x 3 columns]"
      ]
     },
     "execution_count": 77,
     "metadata": {},
     "output_type": "execute_result"
    }
   ],
   "source": [
    "df2"
   ]
  },
  {
   "cell_type": "code",
   "execution_count": 78,
   "id": "c1a36e4e",
   "metadata": {},
   "outputs": [],
   "source": [
    "df2['#ofratings'] = df2['ratings'].apply(lambda x: len(x))"
   ]
  },
  {
   "cell_type": "code",
   "execution_count": 112,
   "id": "643371c1",
   "metadata": {},
   "outputs": [
    {
     "data": {
      "text/html": [
       "<div>\n",
       "<style scoped>\n",
       "    .dataframe tbody tr th:only-of-type {\n",
       "        vertical-align: middle;\n",
       "    }\n",
       "\n",
       "    .dataframe tbody tr th {\n",
       "        vertical-align: top;\n",
       "    }\n",
       "\n",
       "    .dataframe thead th {\n",
       "        text-align: right;\n",
       "    }\n",
       "</style>\n",
       "<table border=\"1\" class=\"dataframe\">\n",
       "  <thead>\n",
       "    <tr style=\"text-align: right;\">\n",
       "      <th></th>\n",
       "      <th>Customer_id</th>\n",
       "      <th>movie_ids</th>\n",
       "      <th>ratings</th>\n",
       "      <th>#ofratings</th>\n",
       "    </tr>\n",
       "  </thead>\n",
       "  <tbody>\n",
       "    <tr>\n",
       "      <th>0</th>\n",
       "      <td>6</td>\n",
       "      <td>[705, 1267, 1561, 2095, 2456, 3423, 4506, 5069...</td>\n",
       "      <td>[3, 3, 3, 4, 4, 4, 3, 3, 5, 3, 4, 4, 3, 3, 5, ...</td>\n",
       "      <td>626</td>\n",
       "    </tr>\n",
       "    <tr>\n",
       "      <th>1</th>\n",
       "      <td>7</td>\n",
       "      <td>[11234, 458, 1145, 5317, 6287, 6528, 6972, 739...</td>\n",
       "      <td>[5, 5, 3, 2, 5, 4, 2, 4, 5, 4, 5, 4, 3, 2, 4, ...</td>\n",
       "      <td>881</td>\n",
       "    </tr>\n",
       "    <tr>\n",
       "      <th>2</th>\n",
       "      <td>8</td>\n",
       "      <td>[1144, 1202, 1428, 1518, 1719, 1799, 1843, 190...</td>\n",
       "      <td>[4, 5, 4, 4, 1, 5, 3, 5, 3, 5, 4, 4, 4, 4, 4, ...</td>\n",
       "      <td>98</td>\n",
       "    </tr>\n",
       "    <tr>\n",
       "      <th>3</th>\n",
       "      <td>10</td>\n",
       "      <td>[571, 2122, 6029, 6972, 9340, 11064, 14367, 15...</td>\n",
       "      <td>[4, 4, 3, 4, 5, 3, 5, 4, 3, 3, 3, 5, 3, 4, 4, ...</td>\n",
       "      <td>260</td>\n",
       "    </tr>\n",
       "    <tr>\n",
       "      <th>6</th>\n",
       "      <td>42</td>\n",
       "      <td>[4389, 1645, 13359, 3962, 8614, 1303, 1470, 39...</td>\n",
       "      <td>[5, 4, 4, 5, 5, 4, 4, 3, 3, 3, 3, 4, 3, 3, 4, ...</td>\n",
       "      <td>128</td>\n",
       "    </tr>\n",
       "    <tr>\n",
       "      <th>...</th>\n",
       "      <td>...</td>\n",
       "      <td>...</td>\n",
       "      <td>...</td>\n",
       "      <td>...</td>\n",
       "    </tr>\n",
       "    <tr>\n",
       "      <th>480179</th>\n",
       "      <td>2649378</td>\n",
       "      <td>[15107, 6720, 11198, 7971, 3315, 6029, 11677, ...</td>\n",
       "      <td>[3, 4, 5, 1, 3, 3, 2, 2, 2, 5, 3, 2, 3, 2, 1, ...</td>\n",
       "      <td>343</td>\n",
       "    </tr>\n",
       "    <tr>\n",
       "      <th>480182</th>\n",
       "      <td>2649388</td>\n",
       "      <td>[270, 313, 571, 963, 1145, 1180, 1466, 1470, 1...</td>\n",
       "      <td>[4, 4, 3, 4, 4, 4, 3, 3, 4, 3, 3, 4, 4, 3, 3, ...</td>\n",
       "      <td>287</td>\n",
       "    </tr>\n",
       "    <tr>\n",
       "      <th>480183</th>\n",
       "      <td>2649401</td>\n",
       "      <td>[12582, 5496, 1145, 1307, 2152, 4951, 4996, 53...</td>\n",
       "      <td>[3, 4, 5, 4, 4, 5, 4, 4, 5, 3, 3, 2, 5, 4, 3, ...</td>\n",
       "      <td>130</td>\n",
       "    </tr>\n",
       "    <tr>\n",
       "      <th>480187</th>\n",
       "      <td>2649426</td>\n",
       "      <td>[5227, 3905, 7971, 15772, 12329, 15158, 216, 9...</td>\n",
       "      <td>[4, 2, 4, 2, 4, 4, 4, 4, 4, 4, 4, 4, 3, 4, 4, ...</td>\n",
       "      <td>295</td>\n",
       "    </tr>\n",
       "    <tr>\n",
       "      <th>480188</th>\n",
       "      <td>2649429</td>\n",
       "      <td>[11265, 571, 708, 798, 985, 1542, 2152, 2209, ...</td>\n",
       "      <td>[5, 4, 2, 4, 4, 4, 5, 3, 5, 5, 5, 5, 5, 4, 5, ...</td>\n",
       "      <td>263</td>\n",
       "    </tr>\n",
       "  </tbody>\n",
       "</table>\n",
       "<p>251101 rows × 4 columns</p>\n",
       "</div>"
      ],
      "text/plain": [
       "        Customer_id                                          movie_ids  \\\n",
       "0                 6  [705, 1267, 1561, 2095, 2456, 3423, 4506, 5069...   \n",
       "1                 7  [11234, 458, 1145, 5317, 6287, 6528, 6972, 739...   \n",
       "2                 8  [1144, 1202, 1428, 1518, 1719, 1799, 1843, 190...   \n",
       "3                10  [571, 2122, 6029, 6972, 9340, 11064, 14367, 15...   \n",
       "6                42  [4389, 1645, 13359, 3962, 8614, 1303, 1470, 39...   \n",
       "...             ...                                                ...   \n",
       "480179      2649378  [15107, 6720, 11198, 7971, 3315, 6029, 11677, ...   \n",
       "480182      2649388  [270, 313, 571, 963, 1145, 1180, 1466, 1470, 1...   \n",
       "480183      2649401  [12582, 5496, 1145, 1307, 2152, 4951, 4996, 53...   \n",
       "480187      2649426  [5227, 3905, 7971, 15772, 12329, 15158, 216, 9...   \n",
       "480188      2649429  [11265, 571, 708, 798, 985, 1542, 2152, 2209, ...   \n",
       "\n",
       "                                                  ratings  #ofratings  \n",
       "0       [3, 3, 3, 4, 4, 4, 3, 3, 5, 3, 4, 4, 3, 3, 5, ...         626  \n",
       "1       [5, 5, 3, 2, 5, 4, 2, 4, 5, 4, 5, 4, 3, 2, 4, ...         881  \n",
       "2       [4, 5, 4, 4, 1, 5, 3, 5, 3, 5, 4, 4, 4, 4, 4, ...          98  \n",
       "3       [4, 4, 3, 4, 5, 3, 5, 4, 3, 3, 3, 5, 3, 4, 4, ...         260  \n",
       "6       [5, 4, 4, 5, 5, 4, 4, 3, 3, 3, 3, 4, 3, 3, 4, ...         128  \n",
       "...                                                   ...         ...  \n",
       "480179  [3, 4, 5, 1, 3, 3, 2, 2, 2, 5, 3, 2, 3, 2, 1, ...         343  \n",
       "480182  [4, 4, 3, 4, 4, 4, 3, 3, 4, 3, 3, 4, 4, 3, 3, ...         287  \n",
       "480183  [3, 4, 5, 4, 4, 5, 4, 4, 5, 3, 3, 2, 5, 4, 3, ...         130  \n",
       "480187  [4, 2, 4, 2, 4, 4, 4, 4, 4, 4, 4, 4, 3, 4, 4, ...         295  \n",
       "480188  [5, 4, 2, 4, 4, 4, 5, 3, 5, 5, 5, 5, 5, 4, 5, ...         263  \n",
       "\n",
       "[251101 rows x 4 columns]"
      ]
     },
     "execution_count": 112,
     "metadata": {},
     "output_type": "execute_result"
    }
   ],
   "source": [
    "df2"
   ]
  },
  {
   "cell_type": "code",
   "execution_count": 113,
   "id": "679d6509",
   "metadata": {},
   "outputs": [],
   "source": [
    "dates = df.groupby('Customer_id')['Date'].apply(list).reset_index()"
   ]
  },
  {
   "cell_type": "code",
   "execution_count": 114,
   "id": "e656ddb4",
   "metadata": {},
   "outputs": [
    {
     "data": {
      "text/html": [
       "<div>\n",
       "<style scoped>\n",
       "    .dataframe tbody tr th:only-of-type {\n",
       "        vertical-align: middle;\n",
       "    }\n",
       "\n",
       "    .dataframe tbody tr th {\n",
       "        vertical-align: top;\n",
       "    }\n",
       "\n",
       "    .dataframe thead th {\n",
       "        text-align: right;\n",
       "    }\n",
       "</style>\n",
       "<table border=\"1\" class=\"dataframe\">\n",
       "  <thead>\n",
       "    <tr style=\"text-align: right;\">\n",
       "      <th></th>\n",
       "      <th>Customer_id</th>\n",
       "      <th>Date</th>\n",
       "    </tr>\n",
       "  </thead>\n",
       "  <tbody>\n",
       "    <tr>\n",
       "      <th>0</th>\n",
       "      <td>6</td>\n",
       "      <td>[2004-03-09, 2004-03-09, 2004-03-09, 2004-03-0...</td>\n",
       "    </tr>\n",
       "    <tr>\n",
       "      <th>1</th>\n",
       "      <td>7</td>\n",
       "      <td>[2002-08-14, 2003-11-21, 2003-11-21, 2003-11-2...</td>\n",
       "    </tr>\n",
       "    <tr>\n",
       "      <th>2</th>\n",
       "      <td>8</td>\n",
       "      <td>[2005-08-25, 2005-08-25, 2005-08-25, 2005-08-2...</td>\n",
       "    </tr>\n",
       "    <tr>\n",
       "      <th>3</th>\n",
       "      <td>10</td>\n",
       "      <td>[2002-12-20, 2002-12-20, 2002-12-20, 2002-12-2...</td>\n",
       "    </tr>\n",
       "    <tr>\n",
       "      <th>4</th>\n",
       "      <td>25</td>\n",
       "      <td>[2004-01-21, 2004-02-02, 2005-05-20, 2005-05-2...</td>\n",
       "    </tr>\n",
       "  </tbody>\n",
       "</table>\n",
       "</div>"
      ],
      "text/plain": [
       "   Customer_id                                               Date\n",
       "0            6  [2004-03-09, 2004-03-09, 2004-03-09, 2004-03-0...\n",
       "1            7  [2002-08-14, 2003-11-21, 2003-11-21, 2003-11-2...\n",
       "2            8  [2005-08-25, 2005-08-25, 2005-08-25, 2005-08-2...\n",
       "3           10  [2002-12-20, 2002-12-20, 2002-12-20, 2002-12-2...\n",
       "4           25  [2004-01-21, 2004-02-02, 2005-05-20, 2005-05-2..."
      ]
     },
     "execution_count": 114,
     "metadata": {},
     "output_type": "execute_result"
    }
   ],
   "source": [
    "dates = pd.DataFrame(dates)\n",
    "dates.head()\n"
   ]
  },
  {
   "cell_type": "code",
   "execution_count": 115,
   "id": "5092a4b2",
   "metadata": {},
   "outputs": [],
   "source": [
    "df2['ratings'] = ratings['Rating']\n"
   ]
  },
  {
   "cell_type": "code",
   "execution_count": 116,
   "id": "44708821",
   "metadata": {},
   "outputs": [],
   "source": [
    "df2['dates'] = dates['Date']"
   ]
  },
  {
   "cell_type": "code",
   "execution_count": 117,
   "id": "2f9fe849",
   "metadata": {},
   "outputs": [],
   "source": [
    "df2 = df2[df2['#ofratings'] <= 1000]\n",
    "df2 = df2[df2['#ofratings'] > 80]\n"
   ]
  },
  {
   "cell_type": "code",
   "execution_count": 120,
   "id": "fc70db17",
   "metadata": {},
   "outputs": [],
   "source": [
    "df2['movie_ids'] = df2['movie_ids'].apply(lambda x: x[-80:])\n",
    "df2['ratings'] = df2['ratings'].apply(lambda x: x[-80:])\n",
    "df2['dates'] = df2['dates'].apply(lambda x: x[-80:])"
   ]
  },
  {
   "cell_type": "code",
   "execution_count": 121,
   "id": "be489e69",
   "metadata": {},
   "outputs": [
    {
     "data": {
      "text/html": [
       "<div>\n",
       "<style scoped>\n",
       "    .dataframe tbody tr th:only-of-type {\n",
       "        vertical-align: middle;\n",
       "    }\n",
       "\n",
       "    .dataframe tbody tr th {\n",
       "        vertical-align: top;\n",
       "    }\n",
       "\n",
       "    .dataframe thead th {\n",
       "        text-align: right;\n",
       "    }\n",
       "</style>\n",
       "<table border=\"1\" class=\"dataframe\">\n",
       "  <thead>\n",
       "    <tr style=\"text-align: right;\">\n",
       "      <th></th>\n",
       "      <th>Customer_id</th>\n",
       "      <th>movie_ids</th>\n",
       "      <th>ratings</th>\n",
       "      <th>#ofratings</th>\n",
       "      <th>dates</th>\n",
       "    </tr>\n",
       "  </thead>\n",
       "  <tbody>\n",
       "    <tr>\n",
       "      <th>0</th>\n",
       "      <td>6</td>\n",
       "      <td>[1709, 1765, 1901, 1918, 1939, 2269, 2340, 272...</td>\n",
       "      <td>[4, 3, 4, 4, 3, 3, 3, 3, 4, 4, 4, 3, 3, 3, 3, ...</td>\n",
       "      <td>626</td>\n",
       "      <td>[2005-12-04, 2005-12-04, 2005-12-04, 2005-12-0...</td>\n",
       "    </tr>\n",
       "    <tr>\n",
       "      <th>1</th>\n",
       "      <td>7</td>\n",
       "      <td>[16640, 16668, 16740, 16792, 16793, 16825, 168...</td>\n",
       "      <td>[5, 4, 5, 4, 3, 4, 4, 2, 5, 3, 3, 4, 5, 4, 4, ...</td>\n",
       "      <td>881</td>\n",
       "      <td>[2005-05-23, 2005-05-23, 2005-05-23, 2005-05-2...</td>\n",
       "    </tr>\n",
       "    <tr>\n",
       "      <th>2</th>\n",
       "      <td>8</td>\n",
       "      <td>[3936, 3938, 4306, 4577, 4590, 4883, 4996, 505...</td>\n",
       "      <td>[4, 4, 5, 3, 4, 4, 4, 5, 4, 5, 5, 4, 5, 5, 4, ...</td>\n",
       "      <td>98</td>\n",
       "      <td>[2005-08-25, 2005-08-25, 2005-08-25, 2005-08-2...</td>\n",
       "    </tr>\n",
       "    <tr>\n",
       "      <th>3</th>\n",
       "      <td>10</td>\n",
       "      <td>[13955, 197, 886, 2172, 2782, 3124, 3610, 3713...</td>\n",
       "      <td>[5, 4, 3, 5, 4, 5, 4, 2, 2, 5, 2, 2, 5, 5, 2, ...</td>\n",
       "      <td>260</td>\n",
       "      <td>[2005-07-18, 2005-08-08, 2005-08-08, 2005-08-0...</td>\n",
       "    </tr>\n",
       "    <tr>\n",
       "      <th>6</th>\n",
       "      <td>42</td>\n",
       "      <td>[2874, 3938, 4420, 5496, 5807, 6868, 7607, 109...</td>\n",
       "      <td>[4, 5, 4, 4, 4, 3, 3, 3, 4, 5, 4, 3, 2, 4, 4, ...</td>\n",
       "      <td>128</td>\n",
       "      <td>[2004-12-21, 2004-12-21, 2004-12-21, 2004-12-2...</td>\n",
       "    </tr>\n",
       "  </tbody>\n",
       "</table>\n",
       "</div>"
      ],
      "text/plain": [
       "   Customer_id                                          movie_ids  \\\n",
       "0            6  [1709, 1765, 1901, 1918, 1939, 2269, 2340, 272...   \n",
       "1            7  [16640, 16668, 16740, 16792, 16793, 16825, 168...   \n",
       "2            8  [3936, 3938, 4306, 4577, 4590, 4883, 4996, 505...   \n",
       "3           10  [13955, 197, 886, 2172, 2782, 3124, 3610, 3713...   \n",
       "6           42  [2874, 3938, 4420, 5496, 5807, 6868, 7607, 109...   \n",
       "\n",
       "                                             ratings  #ofratings  \\\n",
       "0  [4, 3, 4, 4, 3, 3, 3, 3, 4, 4, 4, 3, 3, 3, 3, ...         626   \n",
       "1  [5, 4, 5, 4, 3, 4, 4, 2, 5, 3, 3, 4, 5, 4, 4, ...         881   \n",
       "2  [4, 4, 5, 3, 4, 4, 4, 5, 4, 5, 5, 4, 5, 5, 4, ...          98   \n",
       "3  [5, 4, 3, 5, 4, 5, 4, 2, 2, 5, 2, 2, 5, 5, 2, ...         260   \n",
       "6  [4, 5, 4, 4, 4, 3, 3, 3, 4, 5, 4, 3, 2, 4, 4, ...         128   \n",
       "\n",
       "                                               dates  \n",
       "0  [2005-12-04, 2005-12-04, 2005-12-04, 2005-12-0...  \n",
       "1  [2005-05-23, 2005-05-23, 2005-05-23, 2005-05-2...  \n",
       "2  [2005-08-25, 2005-08-25, 2005-08-25, 2005-08-2...  \n",
       "3  [2005-07-18, 2005-08-08, 2005-08-08, 2005-08-0...  \n",
       "6  [2004-12-21, 2004-12-21, 2004-12-21, 2004-12-2...  "
      ]
     },
     "execution_count": 121,
     "metadata": {},
     "output_type": "execute_result"
    }
   ],
   "source": [
    "df2.head()"
   ]
  },
  {
   "cell_type": "code",
   "execution_count": 122,
   "id": "a1b55639",
   "metadata": {},
   "outputs": [],
   "source": [
    "df2['#ofdays'] = df2['dates'].apply(lambda x: [(pd.to_datetime(date) - pd.to_datetime(x[0])).days + 1 for date in x])"
   ]
  },
  {
   "cell_type": "code",
   "execution_count": 123,
   "id": "bd748695",
   "metadata": {},
   "outputs": [
    {
     "data": {
      "text/html": [
       "<div>\n",
       "<style scoped>\n",
       "    .dataframe tbody tr th:only-of-type {\n",
       "        vertical-align: middle;\n",
       "    }\n",
       "\n",
       "    .dataframe tbody tr th {\n",
       "        vertical-align: top;\n",
       "    }\n",
       "\n",
       "    .dataframe thead th {\n",
       "        text-align: right;\n",
       "    }\n",
       "</style>\n",
       "<table border=\"1\" class=\"dataframe\">\n",
       "  <thead>\n",
       "    <tr style=\"text-align: right;\">\n",
       "      <th></th>\n",
       "      <th>Customer_id</th>\n",
       "      <th>movie_ids</th>\n",
       "      <th>ratings</th>\n",
       "      <th>#ofratings</th>\n",
       "      <th>dates</th>\n",
       "      <th>#ofdays</th>\n",
       "    </tr>\n",
       "  </thead>\n",
       "  <tbody>\n",
       "    <tr>\n",
       "      <th>0</th>\n",
       "      <td>6</td>\n",
       "      <td>[1709, 1765, 1901, 1918, 1939, 2269, 2340, 272...</td>\n",
       "      <td>[4, 3, 4, 4, 3, 3, 3, 3, 4, 4, 4, 3, 3, 3, 3, ...</td>\n",
       "      <td>626</td>\n",
       "      <td>[2005-12-04, 2005-12-04, 2005-12-04, 2005-12-0...</td>\n",
       "      <td>[1, 1, 1, 1, 1, 1, 1, 1, 1, 1, 1, 1, 1, 1, 1, ...</td>\n",
       "    </tr>\n",
       "    <tr>\n",
       "      <th>1</th>\n",
       "      <td>7</td>\n",
       "      <td>[16640, 16668, 16740, 16792, 16793, 16825, 168...</td>\n",
       "      <td>[5, 4, 5, 4, 3, 4, 4, 2, 5, 3, 3, 4, 5, 4, 4, ...</td>\n",
       "      <td>881</td>\n",
       "      <td>[2005-05-23, 2005-05-23, 2005-05-23, 2005-05-2...</td>\n",
       "      <td>[1, 1, 1, 1, 1, 1, 1, 1, 1, 1, 1, 1, 1, 1, 1, ...</td>\n",
       "    </tr>\n",
       "    <tr>\n",
       "      <th>2</th>\n",
       "      <td>8</td>\n",
       "      <td>[3936, 3938, 4306, 4577, 4590, 4883, 4996, 505...</td>\n",
       "      <td>[4, 4, 5, 3, 4, 4, 4, 5, 4, 5, 5, 4, 5, 5, 4, ...</td>\n",
       "      <td>98</td>\n",
       "      <td>[2005-08-25, 2005-08-25, 2005-08-25, 2005-08-2...</td>\n",
       "      <td>[1, 1, 1, 1, 1, 1, 1, 1, 1, 1, 1, 1, 1, 1, 1, ...</td>\n",
       "    </tr>\n",
       "    <tr>\n",
       "      <th>3</th>\n",
       "      <td>10</td>\n",
       "      <td>[13955, 197, 886, 2172, 2782, 3124, 3610, 3713...</td>\n",
       "      <td>[5, 4, 3, 5, 4, 5, 4, 2, 2, 5, 2, 2, 5, 5, 2, ...</td>\n",
       "      <td>260</td>\n",
       "      <td>[2005-07-18, 2005-08-08, 2005-08-08, 2005-08-0...</td>\n",
       "      <td>[1, 22, 22, 22, 22, 22, 22, 22, 22, 22, 22, 22...</td>\n",
       "    </tr>\n",
       "    <tr>\n",
       "      <th>6</th>\n",
       "      <td>42</td>\n",
       "      <td>[2874, 3938, 4420, 5496, 5807, 6868, 7607, 109...</td>\n",
       "      <td>[4, 5, 4, 4, 4, 3, 3, 3, 4, 5, 4, 3, 2, 4, 4, ...</td>\n",
       "      <td>128</td>\n",
       "      <td>[2004-12-21, 2004-12-21, 2004-12-21, 2004-12-2...</td>\n",
       "      <td>[1, 1, 1, 1, 1, 1, 1, 1, 1, 1, 1, 1, 1, 1, 1, ...</td>\n",
       "    </tr>\n",
       "  </tbody>\n",
       "</table>\n",
       "</div>"
      ],
      "text/plain": [
       "   Customer_id                                          movie_ids  \\\n",
       "0            6  [1709, 1765, 1901, 1918, 1939, 2269, 2340, 272...   \n",
       "1            7  [16640, 16668, 16740, 16792, 16793, 16825, 168...   \n",
       "2            8  [3936, 3938, 4306, 4577, 4590, 4883, 4996, 505...   \n",
       "3           10  [13955, 197, 886, 2172, 2782, 3124, 3610, 3713...   \n",
       "6           42  [2874, 3938, 4420, 5496, 5807, 6868, 7607, 109...   \n",
       "\n",
       "                                             ratings  #ofratings  \\\n",
       "0  [4, 3, 4, 4, 3, 3, 3, 3, 4, 4, 4, 3, 3, 3, 3, ...         626   \n",
       "1  [5, 4, 5, 4, 3, 4, 4, 2, 5, 3, 3, 4, 5, 4, 4, ...         881   \n",
       "2  [4, 4, 5, 3, 4, 4, 4, 5, 4, 5, 5, 4, 5, 5, 4, ...          98   \n",
       "3  [5, 4, 3, 5, 4, 5, 4, 2, 2, 5, 2, 2, 5, 5, 2, ...         260   \n",
       "6  [4, 5, 4, 4, 4, 3, 3, 3, 4, 5, 4, 3, 2, 4, 4, ...         128   \n",
       "\n",
       "                                               dates  \\\n",
       "0  [2005-12-04, 2005-12-04, 2005-12-04, 2005-12-0...   \n",
       "1  [2005-05-23, 2005-05-23, 2005-05-23, 2005-05-2...   \n",
       "2  [2005-08-25, 2005-08-25, 2005-08-25, 2005-08-2...   \n",
       "3  [2005-07-18, 2005-08-08, 2005-08-08, 2005-08-0...   \n",
       "6  [2004-12-21, 2004-12-21, 2004-12-21, 2004-12-2...   \n",
       "\n",
       "                                             #ofdays  \n",
       "0  [1, 1, 1, 1, 1, 1, 1, 1, 1, 1, 1, 1, 1, 1, 1, ...  \n",
       "1  [1, 1, 1, 1, 1, 1, 1, 1, 1, 1, 1, 1, 1, 1, 1, ...  \n",
       "2  [1, 1, 1, 1, 1, 1, 1, 1, 1, 1, 1, 1, 1, 1, 1, ...  \n",
       "3  [1, 22, 22, 22, 22, 22, 22, 22, 22, 22, 22, 22...  \n",
       "6  [1, 1, 1, 1, 1, 1, 1, 1, 1, 1, 1, 1, 1, 1, 1, ...  "
      ]
     },
     "execution_count": 123,
     "metadata": {},
     "output_type": "execute_result"
    }
   ],
   "source": [
    "df2.head()"
   ]
  },
  {
   "cell_type": "code",
   "execution_count": 126,
   "id": "1cfc1090",
   "metadata": {},
   "outputs": [],
   "source": [
    "df2.drop(axis=1, labels='dates', inplace = True)"
   ]
  },
  {
   "cell_type": "code",
   "execution_count": 127,
   "id": "73daaf6e",
   "metadata": {},
   "outputs": [
    {
     "data": {
      "text/html": [
       "<div>\n",
       "<style scoped>\n",
       "    .dataframe tbody tr th:only-of-type {\n",
       "        vertical-align: middle;\n",
       "    }\n",
       "\n",
       "    .dataframe tbody tr th {\n",
       "        vertical-align: top;\n",
       "    }\n",
       "\n",
       "    .dataframe thead th {\n",
       "        text-align: right;\n",
       "    }\n",
       "</style>\n",
       "<table border=\"1\" class=\"dataframe\">\n",
       "  <thead>\n",
       "    <tr style=\"text-align: right;\">\n",
       "      <th></th>\n",
       "      <th>Customer_id</th>\n",
       "      <th>movie_ids</th>\n",
       "      <th>ratings</th>\n",
       "      <th>#ofratings</th>\n",
       "      <th>#ofdays</th>\n",
       "    </tr>\n",
       "  </thead>\n",
       "  <tbody>\n",
       "    <tr>\n",
       "      <th>0</th>\n",
       "      <td>6</td>\n",
       "      <td>[1709, 1765, 1901, 1918, 1939, 2269, 2340, 272...</td>\n",
       "      <td>[4, 3, 4, 4, 3, 3, 3, 3, 4, 4, 4, 3, 3, 3, 3, ...</td>\n",
       "      <td>626</td>\n",
       "      <td>[1, 1, 1, 1, 1, 1, 1, 1, 1, 1, 1, 1, 1, 1, 1, ...</td>\n",
       "    </tr>\n",
       "    <tr>\n",
       "      <th>1</th>\n",
       "      <td>7</td>\n",
       "      <td>[16640, 16668, 16740, 16792, 16793, 16825, 168...</td>\n",
       "      <td>[5, 4, 5, 4, 3, 4, 4, 2, 5, 3, 3, 4, 5, 4, 4, ...</td>\n",
       "      <td>881</td>\n",
       "      <td>[1, 1, 1, 1, 1, 1, 1, 1, 1, 1, 1, 1, 1, 1, 1, ...</td>\n",
       "    </tr>\n",
       "    <tr>\n",
       "      <th>2</th>\n",
       "      <td>8</td>\n",
       "      <td>[3936, 3938, 4306, 4577, 4590, 4883, 4996, 505...</td>\n",
       "      <td>[4, 4, 5, 3, 4, 4, 4, 5, 4, 5, 5, 4, 5, 5, 4, ...</td>\n",
       "      <td>98</td>\n",
       "      <td>[1, 1, 1, 1, 1, 1, 1, 1, 1, 1, 1, 1, 1, 1, 1, ...</td>\n",
       "    </tr>\n",
       "    <tr>\n",
       "      <th>3</th>\n",
       "      <td>10</td>\n",
       "      <td>[13955, 197, 886, 2172, 2782, 3124, 3610, 3713...</td>\n",
       "      <td>[5, 4, 3, 5, 4, 5, 4, 2, 2, 5, 2, 2, 5, 5, 2, ...</td>\n",
       "      <td>260</td>\n",
       "      <td>[1, 22, 22, 22, 22, 22, 22, 22, 22, 22, 22, 22...</td>\n",
       "    </tr>\n",
       "    <tr>\n",
       "      <th>6</th>\n",
       "      <td>42</td>\n",
       "      <td>[2874, 3938, 4420, 5496, 5807, 6868, 7607, 109...</td>\n",
       "      <td>[4, 5, 4, 4, 4, 3, 3, 3, 4, 5, 4, 3, 2, 4, 4, ...</td>\n",
       "      <td>128</td>\n",
       "      <td>[1, 1, 1, 1, 1, 1, 1, 1, 1, 1, 1, 1, 1, 1, 1, ...</td>\n",
       "    </tr>\n",
       "  </tbody>\n",
       "</table>\n",
       "</div>"
      ],
      "text/plain": [
       "   Customer_id                                          movie_ids  \\\n",
       "0            6  [1709, 1765, 1901, 1918, 1939, 2269, 2340, 272...   \n",
       "1            7  [16640, 16668, 16740, 16792, 16793, 16825, 168...   \n",
       "2            8  [3936, 3938, 4306, 4577, 4590, 4883, 4996, 505...   \n",
       "3           10  [13955, 197, 886, 2172, 2782, 3124, 3610, 3713...   \n",
       "6           42  [2874, 3938, 4420, 5496, 5807, 6868, 7607, 109...   \n",
       "\n",
       "                                             ratings  #ofratings  \\\n",
       "0  [4, 3, 4, 4, 3, 3, 3, 3, 4, 4, 4, 3, 3, 3, 3, ...         626   \n",
       "1  [5, 4, 5, 4, 3, 4, 4, 2, 5, 3, 3, 4, 5, 4, 4, ...         881   \n",
       "2  [4, 4, 5, 3, 4, 4, 4, 5, 4, 5, 5, 4, 5, 5, 4, ...          98   \n",
       "3  [5, 4, 3, 5, 4, 5, 4, 2, 2, 5, 2, 2, 5, 5, 2, ...         260   \n",
       "6  [4, 5, 4, 4, 4, 3, 3, 3, 4, 5, 4, 3, 2, 4, 4, ...         128   \n",
       "\n",
       "                                             #ofdays  \n",
       "0  [1, 1, 1, 1, 1, 1, 1, 1, 1, 1, 1, 1, 1, 1, 1, ...  \n",
       "1  [1, 1, 1, 1, 1, 1, 1, 1, 1, 1, 1, 1, 1, 1, 1, ...  \n",
       "2  [1, 1, 1, 1, 1, 1, 1, 1, 1, 1, 1, 1, 1, 1, 1, ...  \n",
       "3  [1, 22, 22, 22, 22, 22, 22, 22, 22, 22, 22, 22...  \n",
       "6  [1, 1, 1, 1, 1, 1, 1, 1, 1, 1, 1, 1, 1, 1, 1, ...  "
      ]
     },
     "execution_count": 127,
     "metadata": {},
     "output_type": "execute_result"
    }
   ],
   "source": [
    "df2.head()"
   ]
  },
  {
   "cell_type": "code",
   "execution_count": 128,
   "id": "f091fa47",
   "metadata": {},
   "outputs": [],
   "source": [
    "df2.to_csv('customer_wise_aggregated_data.csv')"
   ]
  }
 ],
 "metadata": {
  "kernelspec": {
   "display_name": "base",
   "language": "python",
   "name": "python3"
  },
  "language_info": {
   "codemirror_mode": {
    "name": "ipython",
    "version": 3
   },
   "file_extension": ".py",
   "mimetype": "text/x-python",
   "name": "python",
   "nbconvert_exporter": "python",
   "pygments_lexer": "ipython3",
   "version": "3.9.12"
  },
  "vscode": {
   "interpreter": {
    "hash": "769804c936366240c0079db8056acd5a3d337ae32f25e73ad09c3624c8f8955f"
   }
  }
 },
 "nbformat": 4,
 "nbformat_minor": 5
}
